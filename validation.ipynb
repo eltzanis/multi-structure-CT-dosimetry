{
 "cells": [
  {
   "cell_type": "code",
   "execution_count": 2,
   "metadata": {},
   "outputs": [],
   "source": [
    "import torch\n",
    "import torch.nn as nn\n",
    "from sklearn.preprocessing import MinMaxScaler\n",
    "import numpy as np\n",
    "from numpy import load\n",
    "import os\n",
    "import sys"
   ]
  },
  {
   "cell_type": "code",
   "execution_count": 3,
   "metadata": {},
   "outputs": [],
   "source": [
    "#model\n",
    "\n",
    "class RegressionModel(nn.Module):\n",
    "    def __init__(self, input_size, hidden_sizes, output_size, num_layers, dropout):\n",
    "        super(RegressionModel, self).__init__()\n",
    "\n",
    "        layers = []\n",
    "        layers.append(nn.Linear(input_size, hidden_sizes[0]))\n",
    "        layers.append(nn.ReLU())\n",
    "\n",
    "        for i in range(1, num_layers - 1):\n",
    "            layers.append(nn.Linear(hidden_sizes[i - 1], hidden_sizes[i]))\n",
    "            layers.append(nn.ReLU())\n",
    "            layers.append(nn.Dropout(dropout))\n",
    "        \n",
    "        layers.append(nn.Linear(hidden_sizes[num_layers - 2], output_size))\n",
    "        self.model = nn.Sequential(*layers)\n",
    "\n",
    "    def forward(self, x):\n",
    "        return self.model(x)"
   ]
  },
  {
   "cell_type": "code",
   "execution_count": 4,
   "metadata": {},
   "outputs": [
    {
     "data": {
      "text/plain": [
       "RegressionModel(\n",
       "  (model): Sequential(\n",
       "    (0): Linear(in_features=5, out_features=512, bias=True)\n",
       "    (1): ReLU()\n",
       "    (2): Linear(in_features=512, out_features=256, bias=True)\n",
       "    (3): ReLU()\n",
       "    (4): Dropout(p=0.1, inplace=False)\n",
       "    (5): Linear(in_features=256, out_features=128, bias=True)\n",
       "    (6): ReLU()\n",
       "    (7): Dropout(p=0.1, inplace=False)\n",
       "    (8): Linear(in_features=128, out_features=64, bias=True)\n",
       "    (9): ReLU()\n",
       "    (10): Dropout(p=0.1, inplace=False)\n",
       "    (11): Linear(in_features=64, out_features=1, bias=True)\n",
       "  )\n",
       ")"
      ]
     },
     "execution_count": 4,
     "metadata": {},
     "output_type": "execute_result"
    }
   ],
   "source": [
    "#model\n",
    "device = torch.device('cuda' if torch.cuda.is_available() else 'cpu')\n",
    "\n",
    "hidden_sizes = [512, 256, 128, 64]\n",
    "model = RegressionModel(input_size=5, hidden_sizes=hidden_sizes, output_size=1, num_layers=5, dropout=0.1)\n",
    "model"
   ]
  },
  {
   "cell_type": "code",
   "execution_count": 10,
   "metadata": {},
   "outputs": [],
   "source": [
    "#evaluate patient by patient\n",
    "\n",
    "def evaluate(organ):\n",
    "\n",
    "    #model loading for the organ\n",
    "    model.load_state_dict(torch.load('models/'+ organ + '_model.pth'))\n",
    "    model.to(device)\n",
    "\n",
    "    #scaler for the organ\n",
    "    data = load('training_arrays/merged_training_arrays/'+ organ + '_training_array.npy')\n",
    "\n",
    "    X = data[:,:-1]\n",
    "\n",
    "    # Find rows containing NaN values in X\n",
    "    nan_rows_X = np.isnan(X).any(axis=1)\n",
    "\n",
    "    # Drop rows with NaN values from X \n",
    "    X = X[~nan_rows_X]\n",
    "\n",
    "    # fit scaler \n",
    "    min_max_scaler = MinMaxScaler()\n",
    "    X = min_max_scaler.fit_transform(X)\n",
    "    \n",
    "    # Save the original standard output\n",
    "    original_stdout = sys.stdout\n",
    "\n",
    "    # Define the file name for saving the output\n",
    "    output_filename ='validation_results/' + organ + '_validation_results.txt'\n",
    "\n",
    "    # Open the file for writing\n",
    "    with open(output_filename, 'w') as f:\n",
    "        # Redirect the standard output to the file\n",
    "        sys.stdout = f\n",
    "\n",
    "        files = os.listdir('training_arrays/validation_cohort/' + organ)\n",
    "        diffs = []\n",
    "        \n",
    "        for file in files:\n",
    "            \n",
    "            print(file)\n",
    "            \n",
    "            test_data = load('training_arrays/validation_cohort/' + organ + '/' + file)\n",
    "            X_test = test_data[:,:-1]\n",
    "            y_test = test_data[:,-1]\n",
    "            \n",
    "            # Find rows containing NaN values in X\n",
    "            nan_rows_X_test = np.isnan(X_test).any(axis=1)\n",
    "\n",
    "            # Drop rows with NaN values from X and y\n",
    "            X_test = X_test[~nan_rows_X_test]\n",
    "            y_test = y_test[~nan_rows_X_test]\n",
    "            \n",
    "            #scaling\n",
    "            X_test = min_max_scaler.transform(X_test)\n",
    "\n",
    "            #data to tensor\n",
    "            X_test = torch.tensor(X_test, dtype=torch.float32).to(device)\n",
    "\n",
    "            #evaluate\n",
    "            with torch.no_grad():\n",
    "                model.eval()\n",
    "                predictions = model(X_test).cpu().numpy()\n",
    "\n",
    "            diffs.append(abs(100*((np.mean(y_test) - np.mean(predictions))/np.mean(y_test))))\n",
    "\n",
    "            print(f'Ground Truth dose (mGy): {np.mean(y_test):.1f}')\n",
    "            print(f'Predicted dose (mGy): {np.mean(predictions):.1f}')\n",
    "            print(f'Percent Error:  {100*((np.mean(y_test) - np.mean(predictions))/np.mean(y_test)):.1f}%')\n",
    "            print('----------------------')\n",
    "        print(f'Mean Percentage Error: {np.nanmean(diffs):.1f}%')\n",
    "        print(f'Max Percentage Error: {np.nanmax(diffs):.1f}%')\n",
    "        print(f'Min Percentage Error: {np.nanmin(diffs):.1f}%')\n",
    "        print(f'Standard Deviation: {np.nanstd(diffs):.1f}')\n",
    "        sys.stdout = original_stdout\n"
   ]
  },
  {
   "cell_type": "code",
   "execution_count": 12,
   "metadata": {},
   "outputs": [],
   "source": [
    "organs_list = ['esophagus', 'aorta', 'pulmonary_artery', 'lung_lower_lobe_left', 'lung_lower_lobe_right',\n",
    "                    'lung_upper_lobe_left', 'lung_upper_lobe_right', 'lung_middle_lobe_right', \n",
    "                    'heart_atrium_left', 'heart_atrium_right', 'heart_ventricle_left', 'heart_ventricle_right', \n",
    "                    'heart_myocardium', 'skin']\n",
    "\n",
    "for organ in organs_list:\n",
    "    evaluate(organ)"
   ]
  },
  {
   "cell_type": "code",
   "execution_count": 8,
   "metadata": {},
   "outputs": [],
   "source": [
    "evaluate('pulmonary_artery')"
   ]
  }
 ],
 "metadata": {
  "kernelspec": {
   "display_name": "totalsegmentator",
   "language": "python",
   "name": "python3"
  },
  "language_info": {
   "codemirror_mode": {
    "name": "ipython",
    "version": 3
   },
   "file_extension": ".py",
   "mimetype": "text/x-python",
   "name": "python",
   "nbconvert_exporter": "python",
   "pygments_lexer": "ipython3",
   "version": "3.11.4"
  },
  "orig_nbformat": 4
 },
 "nbformat": 4,
 "nbformat_minor": 2
}
